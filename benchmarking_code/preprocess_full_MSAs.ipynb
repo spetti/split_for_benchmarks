{
 "cells": [
  {
   "cell_type": "code",
   "execution_count": 5,
   "metadata": {},
   "outputs": [],
   "source": [
    "import subprocess"
   ]
  },
  {
   "cell_type": "code",
   "execution_count": 6,
   "metadata": {},
   "outputs": [],
   "source": [
    "cdir=\"/n/home01/spetti/spetti_space/pass_rate_benchmark/\""
   ]
  },
  {
   "cell_type": "code",
   "execution_count": 7,
   "metadata": {},
   "outputs": [
    {
     "name": "stdout",
     "output_type": "stream",
     "text": [
      "15682\n",
      "1248\n",
      "1172\n",
      "18102\n"
     ]
    }
   ],
   "source": [
    "u5000=[]\n",
    "b5000_10000=[]\n",
    "o_10000=[]\n",
    "nseqs=[]\n",
    "names=[]\n",
    "for line in open(cdir+\"Pfam-A.full.stats\", 'r'):\n",
    "    if line[0]!='#':\n",
    "        l=line.split()\n",
    "        names.append(l[1])\n",
    "        nseqs.append(int(l[3]))\n",
    "#put names in lists based on their lengths \n",
    "\n",
    "for i in range(len(names)):\n",
    "    if nseqs[i]<=5000:\n",
    "        u5000.append(names[i])\n",
    "    elif nseqs[i]<=10000:\n",
    "        b5000_10000.append(names[i])\n",
    "    else:\n",
    "        o_10000.append(names[i])\n",
    "\n",
    "print(len(u5000))\n",
    "print(len(b5000_10000))\n",
    "print(len(o_10000))\n",
    "print(len(names))\n",
    "\n",
    "            \n"
   ]
  },
  {
   "cell_type": "code",
   "execution_count": 9,
   "metadata": {},
   "outputs": [
    {
     "name": "stdout",
     "output_type": "stream",
     "text": [
      "just extracted 1248 msas\n"
     ]
    }
   ],
   "source": [
    "#put each family with 5000- 10000 sequences into its own MSA\n",
    "for name in b5000_10000:\n",
    "    subprocess.run(['esl-afetch', '-o',cdir+'med_full_msa/'+name, '/n/eddyfs01/data/dbs/pfam-33.1/Pfam-A.full', name])\n",
    "print(\"just extracted \" +str(len(b5000_10000))+\" msas\")"
   ]
  },
  {
   "cell_type": "code",
   "execution_count": null,
   "metadata": {},
   "outputs": [],
   "source": [
    "#put each family with > 10000 sequences into its own MSA\n",
    "if False:\n",
    "    for name in o_10000:\n",
    "        subprocess.run(['esl-afetch', '-o',cdir+'big_full_msa/'+name, '/n/eddyfs01/data/dbs/pfam-33.1/Pfam-A.full', names[i]])\n",
    "print(\"just extracted \" +str(len(o_10000))+\" msas\")"
   ]
  },
  {
   "cell_type": "code",
   "execution_count": 20,
   "metadata": {},
   "outputs": [],
   "source": [
    "#make files with names of each list\n",
    "filenames=[]\n",
    "filenames.append(\"full_under_5000\")\n",
    "f=open(cdir+\"full_under_5000\",'w')\n",
    "f.write('\\n'.join([x for x in u5000]))\n",
    "f.write('\\n')\n",
    "f.close()\n",
    "\n",
    "filenames.append(\"full_5000_10000\")\n",
    "f=open(cdir+\"full_5000_10000\",'w')\n",
    "f.write('\\n'.join([x for x in b5000_10000]))\n",
    "f.write('\\n')\n",
    "f.close()\n",
    "\n"
   ]
  },
  {
   "cell_type": "code",
   "execution_count": null,
   "metadata": {},
   "outputs": [],
   "source": [
    "# split full_under_5000 into lists of 500 families each\n",
    "not_done=True\n",
    "i=1\n",
    "while not_done:\n",
    "    if 500*i > len(u5000):\n",
    "        not_done=False\n",
    "        ub=len(u5000)\n",
    "    else:\n",
    "        ub=500*i\n",
    "    filenames.append(\"full_under_5000_\"+str(i))\n",
    "    f=open(cdir+\"full_under_5000_\"+str(i),'w')\n",
    "    f.write('\\n'.join([x for x in u5000[500*(i-1):ub]]))\n",
    "    f.write('\\n')\n",
    "    f.close()\n",
    "    i+=1\n"
   ]
  },
  {
   "cell_type": "code",
   "execution_count": 21,
   "metadata": {},
   "outputs": [],
   "source": [
    "#extract MSA corresponding to each list\n",
    "for filename in filenames:\n",
    "    subprocess.run(['esl-afetch', '-f', '-o',cdir+filename+'.msa', '/n/eddyfs01/data/dbs/pfam-33.1/Pfam-A.full',cdir+filename])\n"
   ]
  },
  {
   "cell_type": "code",
   "execution_count": null,
   "metadata": {},
   "outputs": [],
   "source": []
  }
 ],
 "metadata": {
  "kernelspec": {
   "display_name": "Python 3",
   "language": "python",
   "name": "python3"
  },
  "language_info": {
   "codemirror_mode": {
    "name": "ipython",
    "version": 3
   },
   "file_extension": ".py",
   "mimetype": "text/x-python",
   "name": "python",
   "nbconvert_exporter": "python",
   "pygments_lexer": "ipython3",
   "version": "3.6.10"
  }
 },
 "nbformat": 4,
 "nbformat_minor": 4
}
